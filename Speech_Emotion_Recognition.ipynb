{
  "nbformat": 4,
  "nbformat_minor": 0,
  "metadata": {
    "colab": {
      "name": "Speech Emotion Recognition.ipynb",
      "provenance": [],
      "collapsed_sections": [],
      "mount_file_id": "1wCMuITrtciMK9ji2kRnnB3fxlLvMdy6a",
      "authorship_tag": "ABX9TyPPzaHh4EABpqIvt5gm4nhl",
      "include_colab_link": true
    },
    "kernelspec": {
      "name": "python3",
      "display_name": "Python 3"
    },
    "language_info": {
      "name": "python"
    },
    "accelerator": "GPU"
  },
  "cells": [
    {
      "cell_type": "markdown",
      "metadata": {
        "id": "view-in-github",
        "colab_type": "text"
      },
      "source": [
        "<a href=\"https://colab.research.google.com/github/F0lty/SpeechEmotionRecognition/blob/main/Speech_Emotion_Recognition.ipynb\" target=\"_parent\"><img src=\"https://colab.research.google.com/assets/colab-badge.svg\" alt=\"Open In Colab\"/></a>"
      ]
    },
    {
      "cell_type": "code",
      "metadata": {
        "id": "Yk7gf2vG4GgF"
      },
      "source": [
        "import librosa\n",
        "import librosa.display\n",
        "import numpy as np\n",
        "import matplotlib.pyplot as plt\n",
        "import tensorflow as tf\n",
        "import keras\n",
        "import os\n",
        "from matplotlib.pyplot import specgram\n",
        "from keras.preprocessing import sequence\n",
        "from keras.optimizers import RMSprop\n",
        "from keras.models import Sequential\n",
        "from keras.layers import Dense, Embedding\n",
        "from keras.layers import LSTM\n",
        "from keras import regularizers\n",
        "from keras.utils import np_utils\n",
        "from sklearn.preprocessing import LabelEncoder\n",
        "from keras.callbacks import EarlyStopping\n",
        "from keras.preprocessing.text import Tokenizer\n",
        "from keras.preprocessing.sequence import pad_sequences\n",
        "from keras.utils import to_categorical\n",
        "from keras.layers import Input, Flatten, Dropout, Activation\n",
        "from keras.layers import Conv1D, MaxPooling1D, AveragePooling1D,BatchNormalization,GlobalMaxPooling1D\n",
        "from keras.models import Model\n",
        "from keras.callbacks import ModelCheckpoint\n",
        "from sklearn.metrics import confusion_matrix\n",
        "from sklearn.model_selection import train_test_split\n",
        "\n",
        "from PIL import Image\n",
        "from pydrive.auth import GoogleAuth\n",
        "from pydrive.drive import GoogleDrive\n",
        "from google.colab import auth\n",
        "from oauth2client.client import GoogleCredentials\n"
      ],
      "execution_count": 1,
      "outputs": []
    },
    {
      "cell_type": "code",
      "metadata": {
        "id": "wmbegahv53y0"
      },
      "source": [
        "auth.authenticate_user()\n",
        "gauth = GoogleAuth()\n",
        "gauth.credentials = GoogleCredentials.get_application_default()\n",
        "drive = GoogleDrive(gauth)"
      ],
      "execution_count": 2,
      "outputs": []
    },
    {
      "cell_type": "code",
      "metadata": {
        "colab": {
          "base_uri": "https://localhost:8080/"
        },
        "id": "MFV3kmpG53p0",
        "outputId": "f67cb601-9810-41bf-e38e-8539de3f2cd4"
      },
      "source": [
        "basepath = 'drive/MyDrive/Colab Notebooks'\n",
        "folders = os.listdir(\"{}/RAVDEESTalk\".format(basepath))\n",
        "\n",
        "folders = np.array(folders)\n",
        "print(folders)"
      ],
      "execution_count": 3,
      "outputs": [
        {
          "output_type": "stream",
          "text": [
            "['Actor_01' 'Actor_03' 'Actor_02' 'Actor_04' 'Actor_05' 'Actor_07'\n",
            " 'Actor_06' 'Actor_08' 'Actor_09' 'Actor_10' 'Actor_11' 'Actor_12'\n",
            " 'Actor_13' 'Actor_14' 'Actor_15' 'Actor_16' 'Actor_17' 'Actor_18'\n",
            " 'Actor_19' 'Actor_20' 'Actor_21' 'Actor_22' 'Actor_23' 'Actor_24']\n"
          ],
          "name": "stdout"
        }
      ]
    },
    {
      "cell_type": "code",
      "metadata": {
        "id": "yEMwUUcT_-fz"
      },
      "source": [
        "data = []\n",
        "emotions = []"
      ],
      "execution_count": 4,
      "outputs": []
    },
    {
      "cell_type": "code",
      "metadata": {
        "id": "ivFUf48z4bIR"
      },
      "source": [
        "def getLabel(name):\n",
        "    nm = name.split('.')[0].split('-')\n",
        "    emotion = int(nm[2])\n",
        "    typ = int(nm[1])\n",
        "    if emotion == 1:\n",
        "        lb = \"neutral\"\n",
        "    elif emotion == 2:\n",
        "        lb = \"calm\"\n",
        "    elif emotion == 3:\n",
        "        lb = \"happy\"\n",
        "    elif emotion == 4:\n",
        "        lb = \"sad\"\n",
        "    elif emotion == 5:\n",
        "        lb = \"angry\"\n",
        "    elif emotion == 6:\n",
        "        lb = \"fearful\"\n",
        "    elif emotion == 7:\n",
        "        lb = \"disgust\"\n",
        "    elif emotion == 8:\n",
        "        lb = \"surprise\"\n",
        "    return lb"
      ],
      "execution_count": 5,
      "outputs": []
    },
    {
      "cell_type": "code",
      "metadata": {
        "id": "S7bTC8P653Xm",
        "colab": {
          "base_uri": "https://localhost:8080/"
        },
        "outputId": "4aac5620-62e8-433b-d1bf-d05b7fd07bba"
      },
      "source": [
        "for i,foldersName in enumerate(folders):\n",
        "    files = os.listdir(\"{}/RAVDEESTalk/{}\".format(basepath,foldersName))\n",
        "    print(foldersName)\n",
        "    for a,fileName in enumerate(files):\n",
        "      sample, sr = librosa.load(basepath+'/RAVDEESTalk/'+foldersName+'/'+fileName, res_type='kaiser_fast',duration=2.4,offset=0.5)\n",
        "      sr = np.array(sr)\n",
        "      stft = np.abs(librosa.stft(sample))\n",
        "      result = np.array([])\n",
        "      mfccs = np.mean(librosa.feature.mfcc(y=sample, sr=sr, n_mfcc=40).T, axis=0)\n",
        "      result = np.hstack((result, mfccs))\n",
        "      chroma = np.mean(librosa.feature.chroma_stft(S=stft, sr=sr).T,axis=0)\n",
        "      result = np.hstack((result, chroma))\n",
        "      mel = np.mean(librosa.feature.melspectrogram(sample, sr=sr).T,axis=0)\n",
        "      result = np.hstack((result, mel))\n",
        "      contrast = np.mean(librosa.feature.spectral_contrast(S=stft, sr=sr).T,axis=0)\n",
        "      result = np.hstack((result, contrast))\n",
        "      data.append(result)\n",
        "      emotions.append(getLabel(fileName))\n",
        "for i,foldersName in enumerate(folders):\n",
        "    files = os.listdir(\"{}/RAVDEESSing/{}\".format(basepath,foldersName))\n",
        "    print(foldersName)\n",
        "    for a,fileName in enumerate(files):\n",
        "      sample, sr = librosa.load(basepath+'/RAVDEESSing/'+foldersName+'/'+fileName,res_type='kaiser_fast',duration=2.4,offset=0.5)\n",
        "      sr = np.array(sr)\n",
        "      stft = np.abs(librosa.stft(sample))\n",
        "      result = np.array([])\n",
        "      mfccs = np.mean(librosa.feature.mfcc(y=sample, sr=sr, n_mfcc=40).T, axis=0)\n",
        "      result = np.hstack((result, mfccs))\n",
        "      chroma = np.mean(librosa.feature.chroma_stft(S=stft, sr=sr).T,axis=0)\n",
        "      result = np.hstack((result, chroma))\n",
        "      mel = np.mean(librosa.feature.melspectrogram(sample, sr=sr).T,axis=0)\n",
        "      result = np.hstack((result, mel))\n",
        "      contrast = np.mean(librosa.feature.spectral_contrast(S=stft, sr=sr).T,axis=0)\n",
        "      result = np.hstack((result, contrast))\n",
        "\n",
        "      data.append(result)\n",
        "      emotions.append(getLabel(fileName))"
      ],
      "execution_count": 6,
      "outputs": [
        {
          "output_type": "stream",
          "text": [
            "Actor_01\n",
            "Actor_03\n",
            "Actor_02\n",
            "Actor_04\n",
            "Actor_05\n",
            "Actor_07\n",
            "Actor_06\n",
            "Actor_08\n",
            "Actor_09\n",
            "Actor_10\n",
            "Actor_11\n",
            "Actor_12\n",
            "Actor_13\n",
            "Actor_14\n",
            "Actor_15\n",
            "Actor_16\n",
            "Actor_17\n",
            "Actor_18\n",
            "Actor_19\n",
            "Actor_20\n",
            "Actor_21\n",
            "Actor_22\n",
            "Actor_23\n",
            "Actor_24\n",
            "Actor_01\n",
            "Actor_03\n",
            "Actor_02\n",
            "Actor_04\n",
            "Actor_05\n",
            "Actor_07\n",
            "Actor_06\n",
            "Actor_08\n",
            "Actor_09\n",
            "Actor_10\n",
            "Actor_11\n",
            "Actor_12\n",
            "Actor_13\n",
            "Actor_14\n",
            "Actor_15\n",
            "Actor_16\n",
            "Actor_17\n",
            "Actor_18\n",
            "Actor_19\n",
            "Actor_20\n",
            "Actor_21\n",
            "Actor_22\n",
            "Actor_23\n",
            "Actor_24\n"
          ],
          "name": "stdout"
        }
      ]
    },
    {
      "cell_type": "code",
      "metadata": {
        "id": "5pAWVw6yGUi8"
      },
      "source": [
        "X_train, X_val, y_train, y_val = train_test_split(data, emotions, test_size=0.30)\n",
        "X_val, X_test, y_val, y_test, = train_test_split(X_val, y_val, test_size=0.30)"
      ],
      "execution_count": 7,
      "outputs": []
    },
    {
      "cell_type": "code",
      "metadata": {
        "id": "nXcvvmquPG2D"
      },
      "source": [
        "y_train = np.array(y_train)\n",
        "y_test = np.array(y_test)\n",
        "X_train = np.array(X_train)\n",
        "X_test = np.array(X_test)\n",
        "y_val = np.array(y_val)\n",
        "X_val = np.array(X_val)\n",
        "\n",
        "lb = LabelEncoder()\n",
        "\n",
        "y_train = np_utils.to_categorical(lb.fit_transform(y_train))\n",
        "y_val = np_utils.to_categorical(lb.fit_transform(y_val))\n",
        "y_test = np_utils.to_categorical(lb.fit_transform(y_test))"
      ],
      "execution_count": 8,
      "outputs": []
    },
    {
      "cell_type": "code",
      "metadata": {
        "colab": {
          "base_uri": "https://localhost:8080/"
        },
        "id": "u4YF0U3zVgkH",
        "outputId": "8bcc3f73-d9de-47bc-cfda-6d7dbb613f13"
      },
      "source": [
        "X_train.shape,y_train.shape,X_val.shape,y_val.shape"
      ],
      "execution_count": 9,
      "outputs": [
        {
          "output_type": "execute_result",
          "data": {
            "text/plain": [
              "((1715, 187), (1715, 8), (515, 187), (515, 8))"
            ]
          },
          "metadata": {
            "tags": []
          },
          "execution_count": 9
        }
      ]
    },
    {
      "cell_type": "code",
      "metadata": {
        "colab": {
          "base_uri": "https://localhost:8080/"
        },
        "id": "3G1eYAqhX6kY",
        "outputId": "9b254904-b707-4f5b-d097-75d6dbc195c2"
      },
      "source": [
        "X_valActual = np.expand_dims(X_val, axis=2)\n",
        "X_trainActual = np.expand_dims(X_train, axis=2)\n",
        "X_testActual = np.expand_dims(X_test, axis=2)\n",
        "shape = X_trainActual[0].shape\n",
        "print(shape)"
      ],
      "execution_count": 11,
      "outputs": [
        {
          "output_type": "stream",
          "text": [
            "(187, 1)\n"
          ],
          "name": "stdout"
        }
      ]
    },
    {
      "cell_type": "code",
      "metadata": {
        "id": "j3_YZH_NYgAA"
      },
      "source": [
        "model = Sequential()\n",
        "\n",
        "model.add(Conv1D(128, 5,padding='same',input_shape=(shape)))\n",
        "model.add(Activation('relu'))\n",
        "model.add(BatchNormalization(trainable = True, epsilon=1e-5))\n",
        "model.add(MaxPooling1D(pool_size=(2)))\n",
        "\n",
        "model.add(Conv1D(128, 5,padding='same',input_shape=(shape)))\n",
        "model.add(Activation('relu'))\n",
        "model.add(BatchNormalization(trainable = True, epsilon=1e-5))\n",
        "# model.add(MaxPooling1D(pool_size=(2)))\n",
        "\n",
        "model.add(Conv1D(128, 5,padding='same',input_shape=(shape)))\n",
        "model.add(Activation('relu'))\n",
        "model.add(BatchNormalization(trainable = True, epsilon=1e-5))\n",
        "# model.add(MaxPooling1D(pool_size=(2)))\n",
        "\n",
        "model.add(Conv1D(128, 5,padding='same',input_shape=(shape)))\n",
        "model.add(Activation('relu'))\n",
        "model.add(BatchNormalization(trainable = True, epsilon=1e-5))\n",
        "# model.add(MaxPooling1D(pool_size=(2)))\n",
        "\n",
        "model.add(Conv1D(128, 5,padding='same',input_shape=(shape)))\n",
        "model.add(Activation('relu'))\n",
        "model.add(BatchNormalization(trainable = True, epsilon=1e-5))\n",
        "# model.add(MaxPooling1D(pool_size=(2)))\n",
        "\n",
        "model.add(Conv1D(128, 5,padding='same',input_shape=(shape)))\n",
        "model.add(Activation('relu'))\n",
        "model.add(BatchNormalization(trainable = True, epsilon=1e-5))\n",
        "# model.add(MaxPooling1D(pool_size=(2)))\n",
        "\n",
        "model.add(Dropout(0.2))\n",
        "\n",
        "model.add(Conv1D(128, 5,padding='same',input_shape=(shape)))\n",
        "model.add(Activation('relu'))\n",
        "model.add(BatchNormalization(trainable = True, epsilon=1e-5))\n",
        "model.add(GlobalMaxPooling1D())\n",
        "\n",
        "model.add(Dense(128))\n",
        "model.add(Activation('relu'))  \n",
        "model.add(Dense(8))                                                            \n",
        "model.add(Activation('softmax'))\n",
        "opt = RMSprop(lr=0.00005, rho=0.9, epsilon=None, decay=0.0)"
      ],
      "execution_count": 12,
      "outputs": []
    },
    {
      "cell_type": "code",
      "metadata": {
        "id": "2XJqs37tZaUe"
      },
      "source": [
        "model.summary()"
      ],
      "execution_count": null,
      "outputs": []
    },
    {
      "cell_type": "code",
      "metadata": {
        "id": "tPc69FynY5mf"
      },
      "source": [
        "model.compile(loss='categorical_crossentropy', optimizer=opt,metrics=['accuracy'])"
      ],
      "execution_count": 14,
      "outputs": []
    },
    {
      "cell_type": "code",
      "metadata": {
        "colab": {
          "base_uri": "https://localhost:8080/"
        },
        "id": "Vi__vQlxY76G",
        "outputId": "b1d3a238-00ec-41d3-fff4-8bed8cf06a43"
      },
      "source": [
        "callback = EarlyStopping(monitor='loss', patience=3)\n",
        "history=model.fit(X_trainActual, y_train, batch_size=16, epochs=100, validation_data=(X_valActual, y_val), callbacks=[callback])"
      ],
      "execution_count": 15,
      "outputs": [
        {
          "output_type": "stream",
          "text": [
            "Epoch 1/100\n",
            "108/108 [==============================] - 6s 15ms/step - loss: 3.9395 - accuracy: 0.1680 - val_loss: 2.0778 - val_accuracy: 0.1864\n",
            "Epoch 2/100\n",
            "108/108 [==============================] - 1s 11ms/step - loss: 1.9272 - accuracy: 0.2901 - val_loss: 1.9223 - val_accuracy: 0.2447\n",
            "Epoch 3/100\n",
            "108/108 [==============================] - 1s 11ms/step - loss: 1.6606 - accuracy: 0.4127 - val_loss: 1.9450 - val_accuracy: 0.3379\n",
            "Epoch 4/100\n",
            "108/108 [==============================] - 1s 11ms/step - loss: 1.5762 - accuracy: 0.4224 - val_loss: 1.6560 - val_accuracy: 0.4136\n",
            "Epoch 5/100\n",
            "108/108 [==============================] - 1s 11ms/step - loss: 1.4150 - accuracy: 0.4722 - val_loss: 1.3141 - val_accuracy: 0.5320\n",
            "Epoch 6/100\n",
            "108/108 [==============================] - 1s 11ms/step - loss: 1.2704 - accuracy: 0.5498 - val_loss: 1.3724 - val_accuracy: 0.5223\n",
            "Epoch 7/100\n",
            "108/108 [==============================] - 1s 11ms/step - loss: 1.2220 - accuracy: 0.5524 - val_loss: 1.6328 - val_accuracy: 0.4330\n",
            "Epoch 8/100\n",
            "108/108 [==============================] - 1s 11ms/step - loss: 1.1551 - accuracy: 0.5785 - val_loss: 1.2898 - val_accuracy: 0.5728\n",
            "Epoch 9/100\n",
            "108/108 [==============================] - 1s 11ms/step - loss: 1.0449 - accuracy: 0.6407 - val_loss: 1.3992 - val_accuracy: 0.5184\n",
            "Epoch 10/100\n",
            "108/108 [==============================] - 1s 11ms/step - loss: 1.0584 - accuracy: 0.6149 - val_loss: 1.2267 - val_accuracy: 0.5689\n",
            "Epoch 11/100\n",
            "108/108 [==============================] - 1s 11ms/step - loss: 0.9321 - accuracy: 0.6649 - val_loss: 1.1322 - val_accuracy: 0.6175\n",
            "Epoch 12/100\n",
            "108/108 [==============================] - 1s 11ms/step - loss: 0.8538 - accuracy: 0.7154 - val_loss: 1.3190 - val_accuracy: 0.5573\n",
            "Epoch 13/100\n",
            "108/108 [==============================] - 1s 11ms/step - loss: 0.8563 - accuracy: 0.6867 - val_loss: 1.0829 - val_accuracy: 0.6078\n",
            "Epoch 14/100\n",
            "108/108 [==============================] - 1s 11ms/step - loss: 0.7442 - accuracy: 0.7361 - val_loss: 1.0617 - val_accuracy: 0.6058\n",
            "Epoch 15/100\n",
            "108/108 [==============================] - 1s 11ms/step - loss: 0.7161 - accuracy: 0.7504 - val_loss: 1.2438 - val_accuracy: 0.5728\n",
            "Epoch 16/100\n",
            "108/108 [==============================] - 1s 11ms/step - loss: 0.6863 - accuracy: 0.7618 - val_loss: 1.1274 - val_accuracy: 0.6233\n",
            "Epoch 17/100\n",
            "108/108 [==============================] - 1s 11ms/step - loss: 0.6168 - accuracy: 0.7992 - val_loss: 1.1548 - val_accuracy: 0.5922\n",
            "Epoch 18/100\n",
            "108/108 [==============================] - 1s 12ms/step - loss: 0.5959 - accuracy: 0.7938 - val_loss: 1.1300 - val_accuracy: 0.5922\n",
            "Epoch 19/100\n",
            "108/108 [==============================] - 1s 12ms/step - loss: 0.5405 - accuracy: 0.8323 - val_loss: 1.0057 - val_accuracy: 0.6544\n",
            "Epoch 20/100\n",
            "108/108 [==============================] - 1s 11ms/step - loss: 0.4879 - accuracy: 0.8327 - val_loss: 1.1050 - val_accuracy: 0.6350\n",
            "Epoch 21/100\n",
            "108/108 [==============================] - 1s 11ms/step - loss: 0.4982 - accuracy: 0.8324 - val_loss: 1.1146 - val_accuracy: 0.6175\n",
            "Epoch 22/100\n",
            "108/108 [==============================] - 1s 11ms/step - loss: 0.4361 - accuracy: 0.8552 - val_loss: 0.9868 - val_accuracy: 0.6874\n",
            "Epoch 23/100\n",
            "108/108 [==============================] - 1s 11ms/step - loss: 0.4446 - accuracy: 0.8529 - val_loss: 1.0992 - val_accuracy: 0.6350\n",
            "Epoch 24/100\n",
            "108/108 [==============================] - 1s 11ms/step - loss: 0.4014 - accuracy: 0.8726 - val_loss: 1.0365 - val_accuracy: 0.6583\n",
            "Epoch 25/100\n",
            "108/108 [==============================] - 1s 12ms/step - loss: 0.3668 - accuracy: 0.8880 - val_loss: 1.0468 - val_accuracy: 0.6505\n",
            "Epoch 26/100\n",
            "108/108 [==============================] - 1s 12ms/step - loss: 0.3771 - accuracy: 0.8850 - val_loss: 0.9903 - val_accuracy: 0.6738\n",
            "Epoch 27/100\n",
            "108/108 [==============================] - 1s 11ms/step - loss: 0.3300 - accuracy: 0.8964 - val_loss: 1.0906 - val_accuracy: 0.6602\n",
            "Epoch 28/100\n",
            "108/108 [==============================] - 1s 12ms/step - loss: 0.3264 - accuracy: 0.8772 - val_loss: 1.0262 - val_accuracy: 0.6602\n",
            "Epoch 29/100\n",
            "108/108 [==============================] - 1s 11ms/step - loss: 0.3024 - accuracy: 0.9086 - val_loss: 1.2194 - val_accuracy: 0.6214\n",
            "Epoch 30/100\n",
            "108/108 [==============================] - 1s 11ms/step - loss: 0.2667 - accuracy: 0.9115 - val_loss: 1.0176 - val_accuracy: 0.6796\n",
            "Epoch 31/100\n",
            "108/108 [==============================] - 1s 11ms/step - loss: 0.2522 - accuracy: 0.9322 - val_loss: 0.9708 - val_accuracy: 0.6757\n",
            "Epoch 32/100\n",
            "108/108 [==============================] - 1s 11ms/step - loss: 0.2309 - accuracy: 0.9284 - val_loss: 1.1857 - val_accuracy: 0.6369\n",
            "Epoch 33/100\n",
            "108/108 [==============================] - 1s 11ms/step - loss: 0.2417 - accuracy: 0.9231 - val_loss: 0.9963 - val_accuracy: 0.6816\n",
            "Epoch 34/100\n",
            "108/108 [==============================] - 1s 11ms/step - loss: 0.2200 - accuracy: 0.9368 - val_loss: 1.0493 - val_accuracy: 0.6757\n",
            "Epoch 35/100\n",
            "108/108 [==============================] - 1s 11ms/step - loss: 0.1849 - accuracy: 0.9437 - val_loss: 1.1010 - val_accuracy: 0.6680\n",
            "Epoch 36/100\n",
            "108/108 [==============================] - 1s 11ms/step - loss: 0.1950 - accuracy: 0.9399 - val_loss: 1.0541 - val_accuracy: 0.6874\n",
            "Epoch 37/100\n",
            "108/108 [==============================] - 1s 12ms/step - loss: 0.1970 - accuracy: 0.9410 - val_loss: 0.9686 - val_accuracy: 0.7049\n",
            "Epoch 38/100\n",
            "108/108 [==============================] - 1s 11ms/step - loss: 0.1659 - accuracy: 0.9539 - val_loss: 1.0276 - val_accuracy: 0.6913\n",
            "Epoch 39/100\n",
            "108/108 [==============================] - 1s 11ms/step - loss: 0.1475 - accuracy: 0.9538 - val_loss: 1.0059 - val_accuracy: 0.6641\n",
            "Epoch 40/100\n",
            "108/108 [==============================] - 1s 11ms/step - loss: 0.1413 - accuracy: 0.9596 - val_loss: 1.0800 - val_accuracy: 0.6893\n",
            "Epoch 41/100\n",
            "108/108 [==============================] - 1s 11ms/step - loss: 0.1396 - accuracy: 0.9587 - val_loss: 1.0190 - val_accuracy: 0.7029\n",
            "Epoch 42/100\n",
            "108/108 [==============================] - 1s 11ms/step - loss: 0.1072 - accuracy: 0.9751 - val_loss: 1.1471 - val_accuracy: 0.6796\n",
            "Epoch 43/100\n",
            "108/108 [==============================] - 1s 12ms/step - loss: 0.1344 - accuracy: 0.9605 - val_loss: 0.9377 - val_accuracy: 0.7184\n",
            "Epoch 44/100\n",
            "108/108 [==============================] - 1s 12ms/step - loss: 0.1297 - accuracy: 0.9661 - val_loss: 1.1481 - val_accuracy: 0.6893\n",
            "Epoch 45/100\n",
            "108/108 [==============================] - 1s 11ms/step - loss: 0.1160 - accuracy: 0.9689 - val_loss: 1.0516 - val_accuracy: 0.7029\n",
            "Epoch 46/100\n",
            "108/108 [==============================] - 1s 11ms/step - loss: 0.1145 - accuracy: 0.9681 - val_loss: 0.9363 - val_accuracy: 0.7243\n",
            "Epoch 47/100\n",
            "108/108 [==============================] - 1s 11ms/step - loss: 0.0841 - accuracy: 0.9784 - val_loss: 0.9615 - val_accuracy: 0.7476\n",
            "Epoch 48/100\n",
            "108/108 [==============================] - 1s 11ms/step - loss: 0.0929 - accuracy: 0.9706 - val_loss: 1.0576 - val_accuracy: 0.7087\n",
            "Epoch 49/100\n",
            "108/108 [==============================] - 1s 11ms/step - loss: 0.0974 - accuracy: 0.9712 - val_loss: 1.0983 - val_accuracy: 0.7029\n",
            "Epoch 50/100\n",
            "108/108 [==============================] - 1s 11ms/step - loss: 0.0719 - accuracy: 0.9827 - val_loss: 1.0084 - val_accuracy: 0.7262\n",
            "Epoch 51/100\n",
            "108/108 [==============================] - 1s 11ms/step - loss: 0.0788 - accuracy: 0.9812 - val_loss: 1.0142 - val_accuracy: 0.6932\n",
            "Epoch 52/100\n",
            "108/108 [==============================] - 1s 11ms/step - loss: 0.0820 - accuracy: 0.9813 - val_loss: 1.1849 - val_accuracy: 0.7029\n",
            "Epoch 53/100\n",
            "108/108 [==============================] - 1s 11ms/step - loss: 0.0707 - accuracy: 0.9821 - val_loss: 0.9889 - val_accuracy: 0.7126\n",
            "Epoch 54/100\n",
            "108/108 [==============================] - 1s 11ms/step - loss: 0.0716 - accuracy: 0.9776 - val_loss: 1.1522 - val_accuracy: 0.6893\n",
            "Epoch 55/100\n",
            "108/108 [==============================] - 1s 11ms/step - loss: 0.0638 - accuracy: 0.9832 - val_loss: 1.1004 - val_accuracy: 0.7087\n",
            "Epoch 56/100\n",
            "108/108 [==============================] - 1s 11ms/step - loss: 0.0644 - accuracy: 0.9833 - val_loss: 1.2487 - val_accuracy: 0.7107\n",
            "Epoch 57/100\n",
            "108/108 [==============================] - 1s 11ms/step - loss: 0.0904 - accuracy: 0.9707 - val_loss: 1.0918 - val_accuracy: 0.7087\n",
            "Epoch 58/100\n",
            "108/108 [==============================] - 1s 11ms/step - loss: 0.0612 - accuracy: 0.9844 - val_loss: 1.2366 - val_accuracy: 0.6893\n",
            "Epoch 59/100\n",
            "108/108 [==============================] - 1s 11ms/step - loss: 0.0703 - accuracy: 0.9789 - val_loss: 1.0218 - val_accuracy: 0.7146\n",
            "Epoch 60/100\n",
            "108/108 [==============================] - 1s 11ms/step - loss: 0.0567 - accuracy: 0.9849 - val_loss: 1.0478 - val_accuracy: 0.7204\n",
            "Epoch 61/100\n",
            "108/108 [==============================] - 1s 11ms/step - loss: 0.0578 - accuracy: 0.9830 - val_loss: 1.1372 - val_accuracy: 0.7087\n",
            "Epoch 62/100\n",
            "108/108 [==============================] - 1s 11ms/step - loss: 0.0514 - accuracy: 0.9866 - val_loss: 1.0306 - val_accuracy: 0.7320\n",
            "Epoch 63/100\n",
            "108/108 [==============================] - 1s 11ms/step - loss: 0.0592 - accuracy: 0.9773 - val_loss: 1.2641 - val_accuracy: 0.6699\n",
            "Epoch 64/100\n",
            "108/108 [==============================] - 1s 11ms/step - loss: 0.0597 - accuracy: 0.9850 - val_loss: 1.1204 - val_accuracy: 0.7243\n",
            "Epoch 65/100\n",
            "108/108 [==============================] - 1s 11ms/step - loss: 0.0409 - accuracy: 0.9933 - val_loss: 1.3323 - val_accuracy: 0.6893\n",
            "Epoch 66/100\n",
            "108/108 [==============================] - 1s 11ms/step - loss: 0.0572 - accuracy: 0.9871 - val_loss: 1.1169 - val_accuracy: 0.7165\n",
            "Epoch 67/100\n",
            "108/108 [==============================] - 1s 11ms/step - loss: 0.0437 - accuracy: 0.9899 - val_loss: 1.2415 - val_accuracy: 0.6913\n",
            "Epoch 68/100\n",
            "108/108 [==============================] - 1s 11ms/step - loss: 0.0546 - accuracy: 0.9843 - val_loss: 1.0713 - val_accuracy: 0.7320\n",
            "Epoch 69/100\n",
            "108/108 [==============================] - 1s 11ms/step - loss: 0.0344 - accuracy: 0.9928 - val_loss: 1.1475 - val_accuracy: 0.7029\n",
            "Epoch 70/100\n",
            "108/108 [==============================] - 1s 11ms/step - loss: 0.0365 - accuracy: 0.9944 - val_loss: 1.2148 - val_accuracy: 0.7417\n",
            "Epoch 71/100\n",
            "108/108 [==============================] - 1s 11ms/step - loss: 0.0455 - accuracy: 0.9870 - val_loss: 1.1526 - val_accuracy: 0.7184\n",
            "Epoch 72/100\n",
            "108/108 [==============================] - 1s 11ms/step - loss: 0.0452 - accuracy: 0.9840 - val_loss: 1.0581 - val_accuracy: 0.7359\n",
            "Epoch 73/100\n",
            "108/108 [==============================] - 1s 11ms/step - loss: 0.0463 - accuracy: 0.9866 - val_loss: 1.0728 - val_accuracy: 0.7146\n",
            "Epoch 74/100\n",
            "108/108 [==============================] - 1s 11ms/step - loss: 0.0218 - accuracy: 0.9965 - val_loss: 1.1008 - val_accuracy: 0.7437\n",
            "Epoch 75/100\n",
            "108/108 [==============================] - 1s 11ms/step - loss: 0.0436 - accuracy: 0.9817 - val_loss: 1.3125 - val_accuracy: 0.7184\n",
            "Epoch 76/100\n",
            "108/108 [==============================] - 1s 11ms/step - loss: 0.0236 - accuracy: 0.9959 - val_loss: 1.1242 - val_accuracy: 0.7379\n",
            "Epoch 77/100\n",
            "108/108 [==============================] - 1s 11ms/step - loss: 0.0290 - accuracy: 0.9936 - val_loss: 1.0599 - val_accuracy: 0.7476\n"
          ],
          "name": "stdout"
        }
      ]
    },
    {
      "cell_type": "code",
      "metadata": {
        "id": "1xQTQpu3-jjp",
        "colab": {
          "base_uri": "https://localhost:8080/"
        },
        "outputId": "eb16d958-0e9a-4a51-f803-d34537387ef1"
      },
      "source": [
        "predictions = model.predict(X_testActual)\n",
        "n=predictions[1]\n",
        "print(n)"
      ],
      "execution_count": 17,
      "outputs": [
        {
          "output_type": "stream",
          "text": [
            "[4.6803400e-02 2.5707736e-04 6.3575037e-02 6.2221986e-01 8.5818447e-04\n",
            " 6.0325552e-02 1.7044590e-01 3.5514999e-02]\n"
          ],
          "name": "stdout"
        }
      ]
    },
    {
      "cell_type": "code",
      "metadata": {
        "id": "xNJO7r4N-r_d",
        "colab": {
          "base_uri": "https://localhost:8080/",
          "height": 645
        },
        "outputId": "bad4d8ca-7439-4b0e-9416-b4e1488890ed"
      },
      "source": [
        "plt.plot(history.history['accuracy'])\n",
        "plt.plot(history.history['val_accuracy'])\n",
        "plt.title('All features - Accuracy')\n",
        "plt.ylabel('Accuracy')\n",
        "plt.xlabel('Epoch')\n",
        "plt.legend(['train', 'test'], loc='upper left')\n",
        "plt.show()\n",
        "\n",
        "plt.plot(history.history['loss'])\n",
        "plt.plot(history.history['val_loss'])\n",
        "plt.title('All features - Loss')\n",
        "plt.ylabel('Loss')\n",
        "plt.xlabel('epoch')\n",
        "plt.legend(['train', 'test'], loc='upper left')\n",
        "plt.show()\n",
        "\n",
        "loss, acc = model.evaluate(X_testActual, y_test)\n",
        "print(\"Model Accuracy on unseen data: {:5.2f}%\".format(100*acc))\n",
        "print(\"Model Loss on unseen data: {:}\".format(loss))\n",
        "\n",
        "model.save(basepath+\"/modelAllFeatures\")"
      ],
      "execution_count": 18,
      "outputs": [
        {
          "output_type": "display_data",
          "data": {
            "image/png": "[encoded data removed]",
            "text/plain": [
              "<Figure size 432x288 with 1 Axes>"
            ]
          },
          "metadata": {
            "tags": [],
            "needs_background": "light"
          }
        },
        {
          "output_type": "display_data",
          "data": {
            "image/png": "[encoded data removed]",
            "text/plain": [
              "<Figure size 432x288 with 1 Axes>"
            ]
          },
          "metadata": {
            "tags": [],
            "needs_background": "light"
          }
        },
        {
          "output_type": "stream",
          "text": [
            "7/7 [==============================] - 0s 4ms/step - loss: 0.8711 - accuracy: 0.7511\n",
            "Model Accuracy on unseen data: 75.11%\n",
            "Model Loss on unseen data: 0.8710862994194031\n",
            "INFO:tensorflow:Assets written to: drive/MyDrive/Colab Notebooks/modelAllFeatures/assets\n"
          ],
          "name": "stdout"
        }
      ]
    }
  ]
}